{
 "cells": [
  {
   "cell_type": "code",
   "execution_count": 9,
   "metadata": {},
   "outputs": [
    {
     "name": "stdout",
     "output_type": "stream",
     "text": [
      "1234 608\n",
      "44\n"
     ]
    }
   ],
   "source": [
    "a,b=map(int,input().split())\n",
    "a=str(abs(a))\n",
    "b=str(abs(b))\n",
    "if len(a)<len(b):\n",
    "    a=\"0\"*(len(b)-len(a))+a\n",
    "else:\n",
    "    b=\"0\"*(len(a)-len(b))+b\n",
    "print(sum([int(a[i])*int(b[i]) for i in range(len(a))]))"
   ]
  },
  {
   "cell_type": "code",
   "execution_count": 13,
   "metadata": {},
   "outputs": [
    {
     "name": "stdout",
     "output_type": "stream",
     "text": [
      "[1,2,3]\n",
      "9\n"
     ]
    }
   ],
   "source": [
    "lst=eval(input())\n",
    "print(sum([lst[i]+3 if i%2==1 else lst[i] for i in range(len(lst)) ]))"
   ]
  },
  {
   "cell_type": "code",
   "execution_count": 14,
   "metadata": {},
   "outputs": [
    {
     "data": {
      "text/plain": [
       "'abcdefghijklmnopqrstuvwxyzABCDEFGHIJKLMNOPQRSTUVWXYZ'"
      ]
     },
     "execution_count": 14,
     "metadata": {},
     "output_type": "execute_result"
    }
   ],
   "source": [
    "import random\n",
    "import string\n",
    "string.ascii_letters"
   ]
  },
  {
   "cell_type": "code",
   "execution_count": 15,
   "metadata": {},
   "outputs": [
    {
     "data": {
      "text/plain": [
       "'0123456789'"
      ]
     },
     "execution_count": 15,
     "metadata": {},
     "output_type": "execute_result"
    }
   ],
   "source": [
    "string.digits"
   ]
  },
  {
   "cell_type": "code",
   "execution_count": 16,
   "metadata": {},
   "outputs": [
    {
     "data": {
      "text/plain": [
       "'!\"#$%&\\'()*+,-./:;<=>?@[\\\\]^_`{|}~'"
      ]
     },
     "execution_count": 16,
     "metadata": {},
     "output_type": "execute_result"
    }
   ],
   "source": [
    "string.punctuation"
   ]
  },
  {
   "cell_type": "code",
   "execution_count": 27,
   "metadata": {},
   "outputs": [
    {
     "data": {
      "text/plain": [
       "[(']', 3),\n",
       " ('{', 3),\n",
       " ('7', 3),\n",
       " ('*', 3),\n",
       " ('Q', 3),\n",
       " ('X', 3),\n",
       " ('J', 3),\n",
       " ('!', 2),\n",
       " ('(', 2),\n",
       " ('b', 2)]"
      ]
     },
     "execution_count": 27,
     "metadata": {},
     "output_type": "execute_result"
    }
   ],
   "source": [
    "s=string.ascii_letters+string.digits+string.punctuation\n",
    "lst=[random.choice(s) for i in range(100)]\n",
    "d={}\n",
    "for i in lst:\n",
    "    d[i]=d.get(i,0)+1\n",
    "t=list(d.items())\n",
    "t.sort(key=lambda i:i[1],reverse=True)\n",
    "t[:10]"
   ]
  },
  {
   "cell_type": "code",
   "execution_count": 28,
   "metadata": {},
   "outputs": [
    {
     "data": {
      "text/plain": [
       "dict_items([('u', 2), ('2', 3), ('7', 3), ('+', 3), ('|', 3), ('=', 1), ('Z', 3), ('x', 1), ('D', 2), ('f', 1), ('H', 2), ('!', 1), ('R', 1), ('*', 1), ('e', 3), ('t', 1), ('[', 1), ('\"', 2), ('i', 2), ('Q', 1), ('#', 3), ('4', 3), ('U', 2), ('y', 1), ('l', 1), ('M', 2), ('B', 2), ('A', 1), ('E', 1), ('C', 1), ('h', 3), ('m', 2), ('K', 1), ('O', 1), (';', 1), ('&', 1), ('P', 3), ('c', 1), (',', 3), ('.', 2), ('^', 1), ('j', 1), ('I', 1), ('%', 2), ('{', 2), ('$', 2), ('w', 1), ('a', 1), (']', 1), ('d', 2), ('(', 1), ('N', 2), ('S', 2), ('v', 2), ('8', 2), (\"'\", 1), ('k', 1), ('r', 1), (')', 1), (':', 1)])"
      ]
     },
     "execution_count": 28,
     "metadata": {},
     "output_type": "execute_result"
    }
   ],
   "source": [
    "from collections import Counter\n",
    "\n",
    "s=string.ascii_letters+string.digits+string.punctuation\n",
    "lst=[random.choice(s) for i in range(100)]\n",
    "frequences = Counter(lst)       #这里的z还是前面代码中的字符串对象\n",
    "frequences.items()"
   ]
  },
  {
   "cell_type": "code",
   "execution_count": 29,
   "metadata": {},
   "outputs": [
    {
     "data": {
      "text/plain": [
       "[('2', 3)]"
      ]
     },
     "execution_count": 29,
     "metadata": {},
     "output_type": "execute_result"
    }
   ],
   "source": [
    "frequences.most_common(1)     #返回出现次数最多的1个字符及其频率"
   ]
  },
  {
   "cell_type": "code",
   "execution_count": 30,
   "metadata": {},
   "outputs": [
    {
     "data": {
      "text/plain": [
       "[('2', 3),\n",
       " ('7', 3),\n",
       " ('+', 3),\n",
       " ('|', 3),\n",
       " ('Z', 3),\n",
       " ('e', 3),\n",
       " ('#', 3),\n",
       " ('4', 3),\n",
       " ('h', 3),\n",
       " ('P', 3)]"
      ]
     },
     "execution_count": 30,
     "metadata": {},
     "output_type": "execute_result"
    }
   ],
   "source": [
    "frequences.most_common(10)"
   ]
  },
  {
   "cell_type": "code",
   "execution_count": 35,
   "metadata": {},
   "outputs": [
    {
     "data": {
      "text/plain": [
       "[('6', 5),\n",
       " ('q', 3),\n",
       " ('j', 3),\n",
       " ('U', 3),\n",
       " ('8', 3),\n",
       " ('(', 3),\n",
       " ('}', 2),\n",
       " ('z', 2),\n",
       " ('u', 2),\n",
       " ('t', 2)]"
      ]
     },
     "execution_count": 35,
     "metadata": {},
     "output_type": "execute_result"
    }
   ],
   "source": [
    "s=string.ascii_letters+string.digits+string.punctuation\n",
    "lst=[random.choice(s) for i in range(100)]\n",
    "d={}\n",
    "for i in lst:\n",
    "    d[i]=d.get(i,0)+1\n",
    "t=list(d.items())\n",
    "t.sort(key=lambda i:(i[1],i[0]),reverse=True)\n",
    "t[:10]"
   ]
  },
  {
   "cell_type": "code",
   "execution_count": 38,
   "metadata": {},
   "outputs": [
    {
     "data": {
      "text/plain": [
       "[('the', 1138),\n",
       " ('and', 965),\n",
       " ('to', 754),\n",
       " ('of', 669),\n",
       " ('you', 550),\n",
       " ('i', 542),\n",
       " ('a', 542),\n",
       " ('my', 514),\n",
       " ('hamlet', 462),\n",
       " ('in', 436)]"
      ]
     },
     "execution_count": 38,
     "metadata": {},
     "output_type": "execute_result"
    }
   ],
   "source": [
    "import string\n",
    "# f=open(\"hamlet.txt\",\"r\")\n",
    "# txt=f.read()\n",
    "# f.close()\n",
    "with open(\"hamlet.txt\",\"r\") as f:\n",
    "    txt=f.read()\n",
    "txt = txt.lower()\n",
    "for ch in '!\"#$%&()*+,-./:;<=>?@[\\\\]^_‘{|}~':\n",
    "    txt = txt.replace(ch, \" \")   #将文本中特殊字符替换为空格\n",
    "lst=txt.split()\n",
    "\n",
    "d={}\n",
    "for i in lst:\n",
    "    d[i]=d.get(i,0)+1\n",
    "t=list(d.items())\n",
    "t.sort(key=lambda i:(i[1],i[0]),reverse=True)\n",
    "t[:10]"
   ]
  },
  {
   "cell_type": "code",
   "execution_count": 43,
   "metadata": {},
   "outputs": [
    {
     "data": {
      "text/plain": [
       "['我', '爱', '北京', '天安门', '。']"
      ]
     },
     "execution_count": 43,
     "metadata": {},
     "output_type": "execute_result"
    }
   ],
   "source": [
    "import jieba\n",
    "s=\"我爱北京天安门。\"\n",
    "jieba.lcut(s)"
   ]
  },
  {
   "cell_type": "code",
   "execution_count": 42,
   "metadata": {},
   "outputs": [
    {
     "data": {
      "text/plain": [
       "['我', '爱', '北京', '天安门']"
      ]
     },
     "execution_count": 42,
     "metadata": {},
     "output_type": "execute_result"
    }
   ],
   "source": [
    "list(jieba.cut(s))"
   ]
  },
  {
   "cell_type": "code",
   "execution_count": 49,
   "metadata": {},
   "outputs": [
    {
     "data": {
      "text/plain": [
       "[('曹操', 953),\n",
       " ('孔明', 836),\n",
       " ('将军', 772),\n",
       " ('却说', 656),\n",
       " ('玄德', 585),\n",
       " ('关公', 510),\n",
       " ('丞相', 491),\n",
       " ('二人', 469),\n",
       " ('不可', 440),\n",
       " ('荆州', 425),\n",
       " ('玄德曰', 390),\n",
       " ('孔明曰', 390),\n",
       " ('不能', 384),\n",
       " ('如此', 378),\n",
       " ('张飞', 358),\n",
       " ('商议', 344),\n",
       " ('如何', 338),\n",
       " ('主公', 331),\n",
       " ('军士', 317),\n",
       " ('吕布', 300)]"
      ]
     },
     "execution_count": 49,
     "metadata": {},
     "output_type": "execute_result"
    }
   ],
   "source": [
    "import string\n",
    "import jieba\n",
    "\n",
    "with open(\"threekingdoms.txt\",\"r\",encoding=\"utf-8\") as f:\n",
    "    txt=f.read()\n",
    "lst=jieba.lcut(txt)\n",
    "lst[:20]\n",
    "# lst=txt.split()\n",
    "\n",
    "d={}\n",
    "for i in lst:\n",
    "    if len(i)==1:\n",
    "        continue\n",
    "    else:\n",
    "        d[i]=d.get(i,0)+1\n",
    "t=list(d.items())\n",
    "t.sort(key=lambda i:(i[1],i[0]),reverse=True)\n",
    "t[:20]"
   ]
  },
  {
   "cell_type": "code",
   "execution_count": 50,
   "metadata": {},
   "outputs": [
    {
     "data": {
      "text/plain": [
       "[('曹操', 1451),\n",
       " ('孔明', 1383),\n",
       " ('刘备', 1252),\n",
       " ('关羽', 784),\n",
       " ('将军', 772),\n",
       " ('却说', 656),\n",
       " ('二人', 469),\n",
       " ('不可', 440),\n",
       " ('荆州', 425),\n",
       " ('不能', 384),\n",
       " ('如此', 378),\n",
       " ('张飞', 358),\n",
       " ('商议', 344),\n",
       " ('如何', 338),\n",
       " ('主公', 331),\n",
       " ('军士', 317),\n",
       " ('吕布', 300),\n",
       " ('左右', 294),\n",
       " ('军马', 293),\n",
       " ('赵云', 278)]"
      ]
     },
     "execution_count": 50,
     "metadata": {},
     "output_type": "execute_result"
    }
   ],
   "source": [
    "import string\n",
    "import jieba\n",
    "\n",
    "with open(\"threekingdoms.txt\",\"r\",encoding=\"utf-8\") as f:\n",
    "    txt=f.read()\n",
    "lst=jieba.lcut(txt)\n",
    "lst[:20]\n",
    "# lst=txt.split()\n",
    "\n",
    "d={}\n",
    "for i in lst:\n",
    "    if len(i)==1:\n",
    "        continue\n",
    "    elif i == \"诸葛亮\" or i == \"孔明曰\" :\n",
    "        n = \"孔明\"\n",
    "    elif i == \"关公\" or i == \"云长\":\n",
    "        n = \"关羽\"\n",
    "    elif i == \"玄德\" or i == \"玄德曰\":\n",
    "        n = \"刘备\"\n",
    "    elif i == \"孟德\" or i == \"丞相\":\n",
    "        n = \"曹操\"\n",
    "    else:\n",
    "        n = i\n",
    "    d[n]=d.get(n,0)+1\n",
    "t=list(d.items())\n",
    "t.sort(key=lambda i:(i[1],i[0]),reverse=True)\n",
    "t[:20]"
   ]
  },
  {
   "cell_type": "code",
   "execution_count": 52,
   "metadata": {},
   "outputs": [
    {
     "data": {
      "text/plain": [
       "[('曹操', 1451),\n",
       " ('孔明', 1383),\n",
       " ('刘备', 1252),\n",
       " ('关羽', 784),\n",
       " ('张飞', 358),\n",
       " ('吕布', 300),\n",
       " ('赵云', 278),\n",
       " ('孙权', 264),\n",
       " ('天下', 255),\n",
       " ('东吴', 251),\n",
       " ('于是', 250),\n",
       " ('今日', 243),\n",
       " ('不敢', 239),\n",
       " ('魏兵', 233),\n",
       " ('陛下', 223),\n",
       " ('都督', 221),\n",
       " ('司马懿', 221),\n",
       " ('一人', 221),\n",
       " ('人马', 220),\n",
       " ('不知', 219)]"
      ]
     },
     "execution_count": 52,
     "metadata": {},
     "output_type": "execute_result"
    }
   ],
   "source": [
    "import string\n",
    "import jieba\n",
    "\n",
    "with open(\"threekingdoms.txt\",\"r\",encoding=\"utf-8\") as f:\n",
    "    txt=f.read()\n",
    "lst=jieba.lcut(txt)\n",
    "excludes = {\"将军\",\"却说\",\"荆州\",\"二人\",\"商议\",\"不可\",\"如何\",\"不能\",\"主公\",\"如此\",\"军士\",\"军马\",\"引兵\",\"次日\",\"大喜\",\"左右\"}\n",
    "d={}\n",
    "for i in lst:\n",
    "    if len(i)==1:\n",
    "        continue\n",
    "    elif i == \"诸葛亮\" or i == \"孔明曰\" :\n",
    "        n = \"孔明\"\n",
    "    elif i == \"关公\" or i == \"云长\":\n",
    "        n = \"关羽\"\n",
    "    elif i == \"玄德\" or i == \"玄德曰\":\n",
    "        n = \"刘备\"\n",
    "    elif i == \"孟德\" or i == \"丞相\":\n",
    "        n = \"曹操\"\n",
    "    elif  i.strip() in excludes:\n",
    "        continue\n",
    "    else:\n",
    "        n = i\n",
    "    d[n]=d.get(n,0)+1\n",
    "t=list(d.items())\n",
    "t.sort(key=lambda i:(i[1],i[0]),reverse=True)\n",
    "t[:20]"
   ]
  },
  {
   "cell_type": "code",
   "execution_count": 53,
   "metadata": {},
   "outputs": [
    {
     "data": {
      "text/plain": [
       "[('曹操', 1451),\n",
       " ('孔明', 1383),\n",
       " ('刘备', 1252),\n",
       " ('关羽', 784),\n",
       " ('张飞', 358),\n",
       " ('吕布', 300),\n",
       " ('赵云', 278),\n",
       " ('孙权', 264),\n",
       " ('天下', 255),\n",
       " ('东吴', 251),\n",
       " ('今日', 243),\n",
       " ('魏兵', 233),\n",
       " ('陛下', 223),\n",
       " ('都督', 221),\n",
       " ('司马懿', 221),\n",
       " ('一人', 221),\n",
       " ('人马', 220),\n",
       " ('不知', 219),\n",
       " ('周瑜', 217),\n",
       " ('汉中', 211)]"
      ]
     },
     "execution_count": 53,
     "metadata": {},
     "output_type": "execute_result"
    }
   ],
   "source": [
    "import string\n",
    "import jieba\n",
    "\n",
    "with open(\"threekingdoms.txt\",\"r\",encoding=\"utf-8\") as f:\n",
    "    txt=f.read()\n",
    "lst=jieba.lcut(txt)\n",
    "stwlist = [line.strip() for line in open ('stopwords.txt',encoding='utf-8').readlines()]\n",
    "excludes = {\"将军\",\"却说\",\"荆州\",\"二人\",\"商议\",\"不可\",\"如何\",\"不能\",\"主公\",\"如此\",\"军士\",\"军马\",\"引兵\",\"次日\",\"大喜\",\"左右\"}\n",
    "d={}\n",
    "for i in lst:\n",
    "    if len(i)==1:\n",
    "        continue\n",
    "    elif i == \"诸葛亮\" or i == \"孔明曰\" :\n",
    "        n = \"孔明\"\n",
    "    elif i == \"关公\" or i == \"云长\":\n",
    "        n = \"关羽\"\n",
    "    elif i == \"玄德\" or i == \"玄德曰\":\n",
    "        n = \"刘备\"\n",
    "    elif i == \"孟德\" or i == \"丞相\":\n",
    "        n = \"曹操\"\n",
    "    elif  i.strip() in excludes:\n",
    "        continue\n",
    "    elif  i.strip() in stwlist:\n",
    "        continue\n",
    "    else:\n",
    "        n = i\n",
    "    d[n]=d.get(n,0)+1\n",
    "t=list(d.items())\n",
    "t.sort(key=lambda i:(i[1],i[0]),reverse=True)\n",
    "t[:20]\n"
   ]
  },
  {
   "cell_type": "code",
   "execution_count": 58,
   "metadata": {},
   "outputs": [
    {
     "name": "stdout",
     "output_type": "stream",
     "text": [
      "曹操         1451\n",
      "孔明         1383\n",
      "刘备         1252\n",
      "关羽          784\n",
      "张飞          358\n",
      "吕布          300\n",
      "赵云          278\n",
      "孙权          264\n"
     ]
    },
    {
     "data": {
      "image/png": "[encoded data removed]",
      "text/plain": [
       "<Figure size 432x288 with 1 Axes>"
      ]
     },
     "metadata": {
      "needs_background": "light"
     },
     "output_type": "display_data"
    }
   ],
   "source": [
    "#问题4 词云图\n",
    "\n",
    "import numpy as np # numpy数据处理库\n",
    "import jieba # 结巴分词\n",
    "import wordcloud # 词云展示库\n",
    "from PIL import Image # 图像处理库\n",
    "import matplotlib.pyplot as plt # 图像展示库\n",
    "\n",
    "\n",
    "\n",
    "excludes = {\"将军\",\"却说\",\"荆州\",\"二人\",\"商议\",\"主公\",\"军士\",\"军马\",\"引兵\",\"次日\",\"大喜\"}\n",
    "\n",
    "stwlist = [line.strip() for line in open ('stopwords.txt',encoding='utf-8').readlines()]\n",
    "\n",
    "\n",
    "txt = open(\"threekingdoms.txt\", \"r\", encoding='utf-8').read()\n",
    "words  = jieba.lcut(txt)\n",
    "d = dict() \n",
    "for word in words:\n",
    "    if len(word) == 1:\n",
    "        continue\n",
    "    elif word == \"诸葛亮\" or word == \"孔明曰\" :\n",
    "        rword = \"孔明\"\n",
    "    elif word == \"关公\" or word == \"云长\":\n",
    "        rword = \"关羽\"\n",
    "    elif word == \"玄德\" or word == \"玄德曰\":\n",
    "        rword = \"刘备\"\n",
    "    elif word == \"孟德\" or word == \"丞相\":\n",
    "        rword = \"曹操\"     \n",
    "    elif  word.strip() in stwlist:\n",
    "        continue\n",
    "    elif  word.strip() in excludes:\n",
    "        continue\n",
    "    else:\n",
    "          rword = word\n",
    "    d[rword] = d.get(rword,0) + 1\n",
    "\n",
    "    \n",
    "items = list(d.items())\n",
    "items.sort(key=lambda x:x[1], reverse=True) \n",
    "for i in range(8):\n",
    "    word, count = items[i]\n",
    "    print (\"{0:<10}{1:>5}\".format(word, count))\n",
    "\n",
    "mask = np.array(Image.open('xin.jpeg')) # 定义词频背景\n",
    "#有背景图的词云\n",
    "wc = wordcloud.WordCloud(\n",
    "    font_path='simfang.ttf', # 设置字体格式\n",
    "    mask=mask, # 设置背景图\n",
    "    max_words=200, # 最多显示词数\n",
    "    max_font_size=100 ,# 字体最大值\n",
    "    background_color='white',\n",
    ")\n",
    "#无背景图的词云\n",
    "# wc = wordcloud.WordCloud(\n",
    "#     r'simfang.ttf', \n",
    "#     width=500, \n",
    "#     height=400,\n",
    "#     background_color='black', \n",
    "#     font_step=3,\n",
    "#     max_words=200, \n",
    "#     max_font_size=100 ,\n",
    "#     random_state=False, \n",
    "#     prefer_horizontal=0.9\n",
    "# )\n",
    "\n",
    "wc.generate_from_frequencies(d) # 从字典生成词云\n",
    "image_colors = wordcloud.ImageColorGenerator(mask) # 从背景图建立颜色方案\n",
    "wc.recolor(color_func=image_colors) # 将词云颜色设置为背景图方案\n",
    "plt.imshow(wc) # 显示词云\n",
    "plt.axis('off') # 关闭坐标轴\n",
    "plt.show() # 显示图像\n",
    "\n"
   ]
  },
  {
   "cell_type": "code",
   "execution_count": null,
   "metadata": {},
   "outputs": [],
   "source": []
  }
 ],
 "metadata": {
  "kernelspec": {
   "display_name": "Python 3",
   "language": "python",
   "name": "python3"
  },
  "language_info": {
   "codemirror_mode": {
    "name": "ipython",
    "version": 3
   },
   "file_extension": ".py",
   "mimetype": "text/x-python",
   "name": "python",
   "nbconvert_exporter": "python",
   "pygments_lexer": "ipython3",
   "version": "3.7.3"
  }
 },
 "nbformat": 4,
 "nbformat_minor": 2
}
